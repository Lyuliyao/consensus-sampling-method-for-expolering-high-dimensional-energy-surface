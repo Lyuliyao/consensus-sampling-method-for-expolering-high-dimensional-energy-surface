{
 "cells": [
  {
   "cell_type": "code",
   "execution_count": 2,
   "id": "eec9100f",
   "metadata": {},
   "outputs": [],
   "source": [
    "import torch\n",
    "import subprocess\n",
    "import numpy as np\n",
    "import torch.optim as optim\n",
    "from math import *\n",
    "import model as model\n",
    "import matplotlib.pyplot as plt\n",
    "from scipy.ndimage import gaussian_filter"
   ]
  },
  {
   "cell_type": "code",
   "execution_count": 3,
   "id": "f8fa2d61",
   "metadata": {},
   "outputs": [],
   "source": [
    "dim = 9\n",
    "potential1 = model.init_model(dim);"
   ]
  },
  {
   "cell_type": "code",
   "execution_count": 4,
   "id": "88c2b009",
   "metadata": {},
   "outputs": [],
   "source": [
    "def compute_energy(dim1,dim2,vec):\n",
    "    xlist = np.linspace(-pi, pi, 50)\n",
    "    ylist = np.linspace(-pi, pi, 50)\n",
    "    X, Y = np.meshgrid(xlist, ylist)\n",
    "    inputs = torch.zeros(X.shape[0]*X.shape[1],dim)\n",
    "    for i in range(dim):\n",
    "        inputs[:,i] = vec[i];\n",
    "    inputs[:,dim1] = torch.tensor(X.reshape(-1)); \n",
    "    inputs[:,dim2] = torch.tensor(Y.reshape(-1));\n",
    "    Z = potential1.bias_potential(inputs.T,1)\n",
    "    return X,Y,Z.reshape(X.shape).detach().numpy() "
   ]
  },
  {
   "cell_type": "code",
   "execution_count": 10,
   "id": "cc4e9ef4-fbd9-4272-9416-67e975e51416",
   "metadata": {},
   "outputs": [
    {
     "ename": "RuntimeError",
     "evalue": "Error(s) in loading state_dict for Potential:\n\tsize mismatch for W1: copying a param with shape torch.Size([512, 18]) from checkpoint, the shape in current model is torch.Size([1024, 18]).\n\tsize mismatch for b1: copying a param with shape torch.Size([512, 1]) from checkpoint, the shape in current model is torch.Size([1024, 1]).\n\tsize mismatch for W2: copying a param with shape torch.Size([512, 512]) from checkpoint, the shape in current model is torch.Size([1024, 1024]).\n\tsize mismatch for b2: copying a param with shape torch.Size([512, 1]) from checkpoint, the shape in current model is torch.Size([1024, 1]).\n\tsize mismatch for W3: copying a param with shape torch.Size([512, 512]) from checkpoint, the shape in current model is torch.Size([1024, 1024]).\n\tsize mismatch for b3: copying a param with shape torch.Size([512, 1]) from checkpoint, the shape in current model is torch.Size([1024, 1]).\n\tsize mismatch for W4: copying a param with shape torch.Size([512, 512]) from checkpoint, the shape in current model is torch.Size([1024, 1024]).\n\tsize mismatch for b4: copying a param with shape torch.Size([512, 1]) from checkpoint, the shape in current model is torch.Size([1024, 1]).\n\tsize mismatch for W5: copying a param with shape torch.Size([1, 512]) from checkpoint, the shape in current model is torch.Size([1, 1024]).",
     "output_type": "error",
     "traceback": [
      "\u001b[0;31m---------------------------------------------------------------------------\u001b[0m",
      "\u001b[0;31mRuntimeError\u001b[0m                              Traceback (most recent call last)",
      "\u001b[1;32m/mnt/home/lyuliyao/PROJECT_LIYAO/consensus/consensus/chi3_ref/consensus5/Untitled.ipynb 单元格 4\u001b[0m line \u001b[0;36m1\n\u001b[0;32m----> <a href='vscode-notebook-cell://ssh-remote%2Bamd20/mnt/home/lyuliyao/PROJECT_LIYAO/consensus/consensus/chi3_ref/consensus5/Untitled.ipynb#W3sdnNjb2RlLXJlbW90ZQ%3D%3D?line=0'>1</a>\u001b[0m potential1\u001b[39m.\u001b[39;49mload_state_dict(torch\u001b[39m.\u001b[39;49mload(\u001b[39m\"\u001b[39;49m\u001b[39m./model_save/potential28.pt\u001b[39;49m\u001b[39m\"\u001b[39;49m))\n\u001b[1;32m      <a href='vscode-notebook-cell://ssh-remote%2Bamd20/mnt/home/lyuliyao/PROJECT_LIYAO/consensus/consensus/chi3_ref/consensus5/Untitled.ipynb#W3sdnNjb2RlLXJlbW90ZQ%3D%3D?line=1'>2</a>\u001b[0m device\u001b[39m=\u001b[39m\u001b[39m\"\u001b[39m\u001b[39mcpu\u001b[39m\u001b[39m\"\u001b[39m\n\u001b[1;32m      <a href='vscode-notebook-cell://ssh-remote%2Bamd20/mnt/home/lyuliyao/PROJECT_LIYAO/consensus/consensus/chi3_ref/consensus5/Untitled.ipynb#W3sdnNjb2RlLXJlbW90ZQ%3D%3D?line=2'>3</a>\u001b[0m inputs \u001b[39m=\u001b[39m torch\u001b[39m.\u001b[39mzeros(dim,\u001b[39m1\u001b[39m)\u001b[39m.\u001b[39mto(device);\n",
      "File \u001b[0;32m~/anaconda3/envs/pytorch_a100/lib/python3.8/site-packages/torch/nn/modules/module.py:1482\u001b[0m, in \u001b[0;36mModule.load_state_dict\u001b[0;34m(self, state_dict, strict)\u001b[0m\n\u001b[1;32m   1477\u001b[0m         error_msgs\u001b[39m.\u001b[39minsert(\n\u001b[1;32m   1478\u001b[0m             \u001b[39m0\u001b[39m, \u001b[39m'\u001b[39m\u001b[39mMissing key(s) in state_dict: \u001b[39m\u001b[39m{}\u001b[39;00m\u001b[39m. \u001b[39m\u001b[39m'\u001b[39m\u001b[39m.\u001b[39mformat(\n\u001b[1;32m   1479\u001b[0m                 \u001b[39m'\u001b[39m\u001b[39m, \u001b[39m\u001b[39m'\u001b[39m\u001b[39m.\u001b[39mjoin(\u001b[39m'\u001b[39m\u001b[39m\"\u001b[39m\u001b[39m{}\u001b[39;00m\u001b[39m\"\u001b[39m\u001b[39m'\u001b[39m\u001b[39m.\u001b[39mformat(k) \u001b[39mfor\u001b[39;00m k \u001b[39min\u001b[39;00m missing_keys)))\n\u001b[1;32m   1481\u001b[0m \u001b[39mif\u001b[39;00m \u001b[39mlen\u001b[39m(error_msgs) \u001b[39m>\u001b[39m \u001b[39m0\u001b[39m:\n\u001b[0;32m-> 1482\u001b[0m     \u001b[39mraise\u001b[39;00m \u001b[39mRuntimeError\u001b[39;00m(\u001b[39m'\u001b[39m\u001b[39mError(s) in loading state_dict for \u001b[39m\u001b[39m{}\u001b[39;00m\u001b[39m:\u001b[39m\u001b[39m\\n\u001b[39;00m\u001b[39m\\t\u001b[39;00m\u001b[39m{}\u001b[39;00m\u001b[39m'\u001b[39m\u001b[39m.\u001b[39mformat(\n\u001b[1;32m   1483\u001b[0m                        \u001b[39mself\u001b[39m\u001b[39m.\u001b[39m\u001b[39m__class__\u001b[39m\u001b[39m.\u001b[39m\u001b[39m__name__\u001b[39m, \u001b[39m\"\u001b[39m\u001b[39m\\n\u001b[39;00m\u001b[39m\\t\u001b[39;00m\u001b[39m\"\u001b[39m\u001b[39m.\u001b[39mjoin(error_msgs)))\n\u001b[1;32m   1484\u001b[0m \u001b[39mreturn\u001b[39;00m _IncompatibleKeys(missing_keys, unexpected_keys)\n",
      "\u001b[0;31mRuntimeError\u001b[0m: Error(s) in loading state_dict for Potential:\n\tsize mismatch for W1: copying a param with shape torch.Size([512, 18]) from checkpoint, the shape in current model is torch.Size([1024, 18]).\n\tsize mismatch for b1: copying a param with shape torch.Size([512, 1]) from checkpoint, the shape in current model is torch.Size([1024, 1]).\n\tsize mismatch for W2: copying a param with shape torch.Size([512, 512]) from checkpoint, the shape in current model is torch.Size([1024, 1024]).\n\tsize mismatch for b2: copying a param with shape torch.Size([512, 1]) from checkpoint, the shape in current model is torch.Size([1024, 1]).\n\tsize mismatch for W3: copying a param with shape torch.Size([512, 512]) from checkpoint, the shape in current model is torch.Size([1024, 1024]).\n\tsize mismatch for b3: copying a param with shape torch.Size([512, 1]) from checkpoint, the shape in current model is torch.Size([1024, 1]).\n\tsize mismatch for W4: copying a param with shape torch.Size([512, 512]) from checkpoint, the shape in current model is torch.Size([1024, 1024]).\n\tsize mismatch for b4: copying a param with shape torch.Size([512, 1]) from checkpoint, the shape in current model is torch.Size([1024, 1]).\n\tsize mismatch for W5: copying a param with shape torch.Size([1, 512]) from checkpoint, the shape in current model is torch.Size([1, 1024])."
     ]
    }
   ],
   "source": [
    "potential1.load_state_dict(torch.load(\"./model_save/potential28.pt\"))\n",
    "device=\"cpu\"\n",
    "inputs = torch.zeros(dim,1).to(device);\n",
    "inputs[0,:] = 0;\n",
    "inputs[1,:] = 2;\n",
    "inputs[2,:] = 3;\n",
    "inputs[3,:] = 0;\n",
    "inputs[4,:] = 2;\n",
    "inputs[5,:] = 3;\n",
    "inputs[6,:] = 0;\n",
    "inputs[7,:] = 2;\n",
    "inputs[8,:] = 3;\n",
    "X,Y,Z = compute_energy(0,1,inputs)\n",
    "np.savez(\"example_2D_example1_ome1_phi1.npz\",X=X,Y=Y,Z=Z)\n",
    "X,Y,Z = compute_energy(1,2,inputs)\n",
    "np.savez(\"example_2D_example1_phi1_psi1.npz\",X=X,Y=Y,Z=Z)\n",
    "X,Y,Z = compute_energy(0,2,inputs)\n",
    "np.savez(\"example_2D_example1_ome1_psi1.npz\",X=X,Y=Y,Z=Z)\n",
    "X,Y,Z = compute_energy(3,4,inputs)\n",
    "np.savez(\"example_2D_example1_ome2_phi2.npz\",X=X,Y=Y,Z=Z)\n",
    "X,Y,Z = compute_energy(4,5,inputs)\n",
    "np.savez(\"example_2D_example1_phi2_psi2.npz\",X=X,Y=Y,Z=Z)\n",
    "X,Y,Z = compute_energy(3,5,inputs)\n",
    "np.savez(\"example_2D_example1_ome2_psi2.npz\",X=X,Y=Y,Z=Z)\n",
    "X,Y,Z = compute_energy(6,7,inputs)\n",
    "np.savez(\"example_2D_example1_ome3_phi3.npz\",X=X,Y=Y,Z=Z)\n",
    "X,Y,Z = compute_energy(7,8,inputs)\n",
    "np.savez(\"example_2D_example1_phi3_psi3.npz\",X=X,Y=Y,Z=Z)\n",
    "X,Y,Z = compute_energy(6,8,inputs)\n",
    "np.savez(\"example_2D_example1_ome3_psi3.npz\",X=X,Y=Y,Z=Z)"
   ]
  },
  {
   "cell_type": "code",
   "execution_count": 11,
   "id": "d10fe68a-c9be-4bca-9e1a-32fceca23df7",
   "metadata": {},
   "outputs": [
    {
     "ename": "RuntimeError",
     "evalue": "Error(s) in loading state_dict for Potential:\n\tsize mismatch for W1: copying a param with shape torch.Size([512, 18]) from checkpoint, the shape in current model is torch.Size([1024, 18]).\n\tsize mismatch for b1: copying a param with shape torch.Size([512, 1]) from checkpoint, the shape in current model is torch.Size([1024, 1]).\n\tsize mismatch for W2: copying a param with shape torch.Size([512, 512]) from checkpoint, the shape in current model is torch.Size([1024, 1024]).\n\tsize mismatch for b2: copying a param with shape torch.Size([512, 1]) from checkpoint, the shape in current model is torch.Size([1024, 1]).\n\tsize mismatch for W3: copying a param with shape torch.Size([512, 512]) from checkpoint, the shape in current model is torch.Size([1024, 1024]).\n\tsize mismatch for b3: copying a param with shape torch.Size([512, 1]) from checkpoint, the shape in current model is torch.Size([1024, 1]).\n\tsize mismatch for W4: copying a param with shape torch.Size([512, 512]) from checkpoint, the shape in current model is torch.Size([1024, 1024]).\n\tsize mismatch for b4: copying a param with shape torch.Size([512, 1]) from checkpoint, the shape in current model is torch.Size([1024, 1]).\n\tsize mismatch for W5: copying a param with shape torch.Size([1, 512]) from checkpoint, the shape in current model is torch.Size([1, 1024]).",
     "output_type": "error",
     "traceback": [
      "\u001b[0;31m---------------------------------------------------------------------------\u001b[0m",
      "\u001b[0;31mRuntimeError\u001b[0m                              Traceback (most recent call last)",
      "\u001b[1;32m/mnt/home/lyuliyao/PROJECT_LIYAO/consensus/consensus/chi3_ref/consensus5/Untitled.ipynb 单元格 5\u001b[0m line \u001b[0;36m1\n\u001b[0;32m----> <a href='vscode-notebook-cell://ssh-remote%2Bamd20/mnt/home/lyuliyao/PROJECT_LIYAO/consensus/consensus/chi3_ref/consensus5/Untitled.ipynb#W4sdnNjb2RlLXJlbW90ZQ%3D%3D?line=0'>1</a>\u001b[0m potential1\u001b[39m.\u001b[39;49mload_state_dict(torch\u001b[39m.\u001b[39;49mload(\u001b[39m\"\u001b[39;49m\u001b[39m./model_save/potential28.pt\u001b[39;49m\u001b[39m\"\u001b[39;49m))\n\u001b[1;32m      <a href='vscode-notebook-cell://ssh-remote%2Bamd20/mnt/home/lyuliyao/PROJECT_LIYAO/consensus/consensus/chi3_ref/consensus5/Untitled.ipynb#W4sdnNjb2RlLXJlbW90ZQ%3D%3D?line=1'>2</a>\u001b[0m device\u001b[39m=\u001b[39m\u001b[39m\"\u001b[39m\u001b[39mcpu\u001b[39m\u001b[39m\"\u001b[39m\n\u001b[1;32m      <a href='vscode-notebook-cell://ssh-remote%2Bamd20/mnt/home/lyuliyao/PROJECT_LIYAO/consensus/consensus/chi3_ref/consensus5/Untitled.ipynb#W4sdnNjb2RlLXJlbW90ZQ%3D%3D?line=2'>3</a>\u001b[0m inputs \u001b[39m=\u001b[39m torch\u001b[39m.\u001b[39mzeros(dim,\u001b[39m1\u001b[39m)\u001b[39m.\u001b[39mto(device);\n",
      "File \u001b[0;32m~/anaconda3/envs/pytorch_a100/lib/python3.8/site-packages/torch/nn/modules/module.py:1482\u001b[0m, in \u001b[0;36mModule.load_state_dict\u001b[0;34m(self, state_dict, strict)\u001b[0m\n\u001b[1;32m   1477\u001b[0m         error_msgs\u001b[39m.\u001b[39minsert(\n\u001b[1;32m   1478\u001b[0m             \u001b[39m0\u001b[39m, \u001b[39m'\u001b[39m\u001b[39mMissing key(s) in state_dict: \u001b[39m\u001b[39m{}\u001b[39;00m\u001b[39m. \u001b[39m\u001b[39m'\u001b[39m\u001b[39m.\u001b[39mformat(\n\u001b[1;32m   1479\u001b[0m                 \u001b[39m'\u001b[39m\u001b[39m, \u001b[39m\u001b[39m'\u001b[39m\u001b[39m.\u001b[39mjoin(\u001b[39m'\u001b[39m\u001b[39m\"\u001b[39m\u001b[39m{}\u001b[39;00m\u001b[39m\"\u001b[39m\u001b[39m'\u001b[39m\u001b[39m.\u001b[39mformat(k) \u001b[39mfor\u001b[39;00m k \u001b[39min\u001b[39;00m missing_keys)))\n\u001b[1;32m   1481\u001b[0m \u001b[39mif\u001b[39;00m \u001b[39mlen\u001b[39m(error_msgs) \u001b[39m>\u001b[39m \u001b[39m0\u001b[39m:\n\u001b[0;32m-> 1482\u001b[0m     \u001b[39mraise\u001b[39;00m \u001b[39mRuntimeError\u001b[39;00m(\u001b[39m'\u001b[39m\u001b[39mError(s) in loading state_dict for \u001b[39m\u001b[39m{}\u001b[39;00m\u001b[39m:\u001b[39m\u001b[39m\\n\u001b[39;00m\u001b[39m\\t\u001b[39;00m\u001b[39m{}\u001b[39;00m\u001b[39m'\u001b[39m\u001b[39m.\u001b[39mformat(\n\u001b[1;32m   1483\u001b[0m                        \u001b[39mself\u001b[39m\u001b[39m.\u001b[39m\u001b[39m__class__\u001b[39m\u001b[39m.\u001b[39m\u001b[39m__name__\u001b[39m, \u001b[39m\"\u001b[39m\u001b[39m\\n\u001b[39;00m\u001b[39m\\t\u001b[39;00m\u001b[39m\"\u001b[39m\u001b[39m.\u001b[39mjoin(error_msgs)))\n\u001b[1;32m   1484\u001b[0m \u001b[39mreturn\u001b[39;00m _IncompatibleKeys(missing_keys, unexpected_keys)\n",
      "\u001b[0;31mRuntimeError\u001b[0m: Error(s) in loading state_dict for Potential:\n\tsize mismatch for W1: copying a param with shape torch.Size([512, 18]) from checkpoint, the shape in current model is torch.Size([1024, 18]).\n\tsize mismatch for b1: copying a param with shape torch.Size([512, 1]) from checkpoint, the shape in current model is torch.Size([1024, 1]).\n\tsize mismatch for W2: copying a param with shape torch.Size([512, 512]) from checkpoint, the shape in current model is torch.Size([1024, 1024]).\n\tsize mismatch for b2: copying a param with shape torch.Size([512, 1]) from checkpoint, the shape in current model is torch.Size([1024, 1]).\n\tsize mismatch for W3: copying a param with shape torch.Size([512, 512]) from checkpoint, the shape in current model is torch.Size([1024, 1024]).\n\tsize mismatch for b3: copying a param with shape torch.Size([512, 1]) from checkpoint, the shape in current model is torch.Size([1024, 1]).\n\tsize mismatch for W4: copying a param with shape torch.Size([512, 512]) from checkpoint, the shape in current model is torch.Size([1024, 1024]).\n\tsize mismatch for b4: copying a param with shape torch.Size([512, 1]) from checkpoint, the shape in current model is torch.Size([1024, 1]).\n\tsize mismatch for W5: copying a param with shape torch.Size([1, 512]) from checkpoint, the shape in current model is torch.Size([1, 1024])."
     ]
    }
   ],
   "source": [
    "potential1.load_state_dict(torch.load(\"./model_save/potential28.pt\"))\n",
    "device=\"cpu\"\n",
    "inputs = torch.zeros(dim,1).to(device);\n",
    "inputs[0,:] = 0;\n",
    "inputs[1,:] = -1;\n",
    "inputs[2,:] = -2;\n",
    "inputs[3,:] = 0;\n",
    "inputs[4,:] = -1;\n",
    "inputs[5,:] = -2;\n",
    "inputs[6,:] = 0;\n",
    "inputs[7,:] = -1;\n",
    "inputs[8,:] = -2;\n",
    "X,Y,Z = compute_energy(0,1,inputs)\n",
    "np.savez(\"example_2D_example2_ome1_phi1.npz\",X=X,Y=Y,Z=Z)\n",
    "X,Y,Z = compute_energy(1,2,inputs)\n",
    "np.savez(\"example_2D_example2_phi1_psi1.npz\",X=X,Y=Y,Z=Z)\n",
    "X,Y,Z = compute_energy(0,2,inputs)\n",
    "np.savez(\"example_2D_example2_ome1_psi1.npz\",X=X,Y=Y,Z=Z)\n",
    "X,Y,Z = compute_energy(3,4,inputs)\n",
    "np.savez(\"example_2D_example2_ome2_phi2.npz\",X=X,Y=Y,Z=Z)\n",
    "X,Y,Z = compute_energy(4,5,inputs)\n",
    "np.savez(\"example_2D_example2_phi2_psi2.npz\",X=X,Y=Y,Z=Z)\n",
    "X,Y,Z = compute_energy(3,5,inputs)\n",
    "np.savez(\"example_2D_example2_ome2_psi2.npz\",X=X,Y=Y,Z=Z)\n",
    "X,Y,Z = compute_energy(6,7,inputs)\n",
    "np.savez(\"example_2D_example2_ome3_phi3.npz\",X=X,Y=Y,Z=Z)\n",
    "X,Y,Z = compute_energy(7,8,inputs)\n",
    "np.savez(\"example_2D_example2_phi3_psi3.npz\",X=X,Y=Y,Z=Z)\n",
    "X,Y,Z = compute_energy(6,8,inputs)\n",
    "np.savez(\"example_2D_example2_ome3_psi3.npz\",X=X,Y=Y,Z=Z)"
   ]
  },
  {
   "cell_type": "code",
   "execution_count": null,
   "id": "6fd57219-8b33-4834-bccc-a1afc0664021",
   "metadata": {},
   "outputs": [],
   "source": []
  }
 ],
 "metadata": {
  "kernelspec": {
   "display_name": "Python 3 (ipykernel)",
   "language": "python",
   "name": "python3"
  },
  "language_info": {
   "codemirror_mode": {
    "name": "ipython",
    "version": 3
   },
   "file_extension": ".py",
   "mimetype": "text/x-python",
   "name": "python",
   "nbconvert_exporter": "python",
   "pygments_lexer": "ipython3",
   "version": "3.9.18"
  }
 },
 "nbformat": 4,
 "nbformat_minor": 5
}
