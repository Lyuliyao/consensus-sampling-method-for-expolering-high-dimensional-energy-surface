{
 "cells": [
  {
   "cell_type": "code",
   "execution_count": 1,
   "id": "eec9100f",
   "metadata": {},
   "outputs": [],
   "source": [
    "import torch\n",
    "import subprocess\n",
    "import numpy as np\n",
    "import torch.optim as optim\n",
    "from math import *\n",
    "import model as model\n",
    "import matplotlib.pyplot as plt\n",
    "from scipy.ndimage import gaussian_filter"
   ]
  },
  {
   "cell_type": "code",
   "execution_count": 2,
   "id": "f8fa2d61",
   "metadata": {},
   "outputs": [],
   "source": [
    "dim = 9\n",
    "potential1 = model.init_model(dim);"
   ]
  },
  {
   "cell_type": "code",
   "execution_count": 3,
   "id": "88c2b009",
   "metadata": {},
   "outputs": [],
   "source": [
    "def compute_energy(dim1,dim2,vec):\n",
    "    xlist = np.linspace(-pi, pi, 50)\n",
    "    ylist = np.linspace(-pi, pi, 50)\n",
    "    X, Y = np.meshgrid(xlist, ylist)\n",
    "    inputs = torch.zeros(X.shape[0]*X.shape[1],dim)\n",
    "    for i in range(dim):\n",
    "        inputs[:,i] = vec[i];\n",
    "    inputs[:,dim1] = torch.tensor(X.reshape(-1)); \n",
    "    inputs[:,dim2] = torch.tensor(Y.reshape(-1));\n",
    "    Z = potential1.bias_potential(inputs.T,1)\n",
    "    return X,Y,Z.reshape(X.shape).detach().numpy() "
   ]
  },
  {
   "cell_type": "code",
   "execution_count": 5,
   "id": "cc4e9ef4-fbd9-4272-9416-67e975e51416",
   "metadata": {},
   "outputs": [],
   "source": [
    "potential1.load_state_dict(torch.load(\"./model_save/potential20.pt\"))\n",
    "device=\"cpu\"\n",
    "inputs = torch.zeros(dim,1).to(device);\n",
    "inputs[0,:] = 0;\n",
    "inputs[1,:] = 2;\n",
    "inputs[2,:] = 3;\n",
    "inputs[3,:] = 0;\n",
    "inputs[4,:] = 2;\n",
    "inputs[5,:] = 3;\n",
    "inputs[6,:] = 0;\n",
    "inputs[7,:] = 2;\n",
    "inputs[8,:] = 3;\n",
    "X,Y,Z = compute_energy(0,1,inputs)\n",
    "np.savez(\"example_2D_example1_ome1_phi1.npz\",X=X,Y=Y,Z=Z)\n",
    "X,Y,Z = compute_energy(1,2,inputs)\n",
    "np.savez(\"example_2D_example1_phi1_psi1.npz\",X=X,Y=Y,Z=Z)\n",
    "X,Y,Z = compute_energy(0,2,inputs)\n",
    "np.savez(\"example_2D_example1_ome1_psi1.npz\",X=X,Y=Y,Z=Z)\n",
    "X,Y,Z = compute_energy(0,1,inputs)\n",
    "np.savez(\"example_2D_example1_ome2_phi2.npz\",X=X,Y=Y,Z=Z)\n",
    "X,Y,Z = compute_energy(1,2,inputs)\n",
    "np.savez(\"example_2D_example1_phi2_psi2.npz\",X=X,Y=Y,Z=Z)\n",
    "X,Y,Z = compute_energy(0,2,inputs)\n",
    "np.savez(\"example_2D_example1_ome2_psi2.npz\",X=X,Y=Y,Z=Z)\n",
    "X,Y,Z = compute_energy(0,1,inputs)\n",
    "np.savez(\"example_2D_example1_ome3_phi3.npz\",X=X,Y=Y,Z=Z)\n",
    "X,Y,Z = compute_energy(1,2,inputs)\n",
    "np.savez(\"example_2D_example1_phi3_psi3.npz\",X=X,Y=Y,Z=Z)\n",
    "X,Y,Z = compute_energy(0,2,inputs)\n",
    "np.savez(\"example_2D_example1_ome3_psi3.npz\",X=X,Y=Y,Z=Z)"
   ]
  },
  {
   "cell_type": "code",
   "execution_count": null,
   "id": "d10fe68a-c9be-4bca-9e1a-32fceca23df7",
   "metadata": {},
   "outputs": [],
   "source": []
  },
  {
   "cell_type": "code",
   "execution_count": null,
   "id": "6fd57219-8b33-4834-bccc-a1afc0664021",
   "metadata": {},
   "outputs": [],
   "source": []
  }
 ],
 "metadata": {
  "kernelspec": {
   "display_name": "Python 3.8 (Anaconda 2021.05)",
   "language": "python",
   "name": "anaconda-2021.05-py38"
  },
  "language_info": {
   "codemirror_mode": {
    "name": "ipython",
    "version": 3
   },
   "file_extension": ".py",
   "mimetype": "text/x-python",
   "name": "python",
   "nbconvert_exporter": "python",
   "pygments_lexer": "ipython3",
   "version": "3.8.8"
  }
 },
 "nbformat": 4,
 "nbformat_minor": 5
}
